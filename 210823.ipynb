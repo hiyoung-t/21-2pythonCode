{
  "nbformat": 4,
  "nbformat_minor": 0,
  "metadata": {
    "colab": {
      "name": "Untitled0.ipynb",
      "provenance": [],
      "authorship_tag": "ABX9TyNPrmrC1PfJGqLawEBI4mtU",
      "include_colab_link": true
    },
    "kernelspec": {
      "name": "python3",
      "display_name": "Python 3"
    },
    "language_info": {
      "name": "python"
    }
  },
  "cells": [
    {
      "cell_type": "markdown",
      "metadata": {
        "id": "view-in-github",
        "colab_type": "text"
      },
      "source": [
        "<a href=\"https://colab.research.google.com/github/hiyoung-t/21-2pythonCode/blob/main/210823.ipynb\" target=\"_parent\"><img src=\"https://colab.research.google.com/assets/colab-badge.svg\" alt=\"Open In Colab\"/></a>"
      ]
    },
    {
      "cell_type": "code",
      "metadata": {
        "id": "dIJtMcJsa8H0"
      },
      "source": [
        ""
      ],
      "execution_count": null,
      "outputs": []
    },
    {
      "cell_type": "markdown",
      "metadata": {
        "id": "2g4oK5B2bND5"
      },
      "source": [
        "#**학습목표**\n",
        "\n",
        "1. python 언어에서 변수의 의미를 이해하기\n",
        "2. 기본 데이터 타입을 선언하기 (int, float, str, bool)\n"
      ]
    },
    {
      "cell_type": "markdown",
      "metadata": {
        "id": "AfCCqOaebMkp"
      },
      "source": [
        ""
      ]
    },
    {
      "cell_type": "markdown",
      "metadata": {
        "id": "_fD-TBwGczBq"
      },
      "source": [
        "### **= 대입연산자**\n",
        "*   대입의 경우, 오른쪽의 수식이나 값을 계산한 뒤, 왼쪽 변수에 값을 대입\n",
        "*  변수는 해당 값을 가지게 된다.\n",
        "\n",
        "\n",
        "\n"
      ]
    },
    {
      "cell_type": "code",
      "metadata": {
        "id": "pEYgnDICdWqG"
      },
      "source": [
        "a = 10 #int\n",
        "b = 11.4 #float"
      ],
      "execution_count": 1,
      "outputs": []
    },
    {
      "cell_type": "code",
      "metadata": {
        "colab": {
          "base_uri": "https://localhost:8080/"
        },
        "id": "rJyff51zdgm_",
        "outputId": "82ee4165-522c-4b0c-ea35-7746609cf4bd"
      },
      "source": [
        "print(a)"
      ],
      "execution_count": 2,
      "outputs": [
        {
          "output_type": "stream",
          "text": [
            "10\n"
          ],
          "name": "stdout"
        }
      ]
    },
    {
      "cell_type": "code",
      "metadata": {
        "id": "wvQkB3l-dn3_"
      },
      "source": [
        ""
      ],
      "execution_count": null,
      "outputs": []
    },
    {
      "cell_type": "markdown",
      "metadata": {
        "id": "_F3dne8DesuQ"
      },
      "source": [
        "## **주석(Comment)**\n",
        "* 코드에서 #으로 시작하는 뒷부분은 실행 안함\n",
        "* python이 실행할 때 #만나면 무시\n",
        "* 개발자(사람)이 보기 위한 용도로 사용"
      ]
    },
    {
      "cell_type": "code",
      "metadata": {
        "id": "ZjpkqpMae9z9"
      },
      "source": [
        " #this line is important\n",
        " #so don't delete those lines\n",
        "\n",
        " math = 11\n",
        " english = 57.8"
      ],
      "execution_count": 4,
      "outputs": []
    },
    {
      "cell_type": "code",
      "metadata": {
        "id": "TqvaWDCwfjO2"
      },
      "source": [
        ""
      ],
      "execution_count": null,
      "outputs": []
    },
    {
      "cell_type": "markdown",
      "metadata": {
        "id": "M_sfVujhgHRT"
      },
      "source": [
        "### **print 함수**\n",
        " * 함수란 특정 기능을 반복적으로 호출하여 사용가능한 코드블럭\n",
        " * 해당 변수 값이 출력\n",
        " * ,로 여러 변수를 나열하면 한줄에 출력\n",
        " * 기본적으로는 한칸 띄어쓰기 후 출력"
      ]
    },
    {
      "cell_type": "code",
      "metadata": {
        "colab": {
          "base_uri": "https://localhost:8080/"
        },
        "id": "1D7N8KGYgd8W",
        "outputId": "5c860fbb-6d77-4428-d7f6-962b4c3ebb09"
      },
      "source": [
        "print(a, b)"
      ],
      "execution_count": 5,
      "outputs": [
        {
          "output_type": "stream",
          "text": [
            "10 11.4\n"
          ],
          "name": "stdout"
        }
      ]
    },
    {
      "cell_type": "code",
      "metadata": {
        "colab": {
          "base_uri": "https://localhost:8080/"
        },
        "id": "gLEuTLesguz1",
        "outputId": "72c2fddb-97c1-4e4a-e03b-65f20bbb7a3e"
      },
      "source": [
        "print(math, english, 20, '하영쌤')"
      ],
      "execution_count": 6,
      "outputs": [
        {
          "output_type": "stream",
          "text": [
            "11 57.8 20 하영쌤\n"
          ],
          "name": "stdout"
        }
      ]
    },
    {
      "cell_type": "markdown",
      "metadata": {
        "id": "5qvorQ4uhpXe"
      },
      "source": [
        "#### **변수 값 확인 방법**\n",
        "1. print() 함수 사용\n",
        "2. 변수 값을 코드의 마지막에 위치 시킨 후 실행\n",
        "  - 이 경우 output으로 변수의 값이 출력된다.\n",
        "    \n",
        "      "
      ]
    },
    {
      "cell_type": "code",
      "metadata": {
        "colab": {
          "base_uri": "https://localhost:8080/"
        },
        "id": "Z7hbwXdvhGnd",
        "outputId": "17131138-2830-4bc5-bd82-225a981f54cd"
      },
      "source": [
        "math\n",
        "english"
      ],
      "execution_count": 8,
      "outputs": [
        {
          "output_type": "execute_result",
          "data": {
            "text/plain": [
              "57.8"
            ]
          },
          "metadata": {},
          "execution_count": 8
        }
      ]
    },
    {
      "cell_type": "markdown",
      "metadata": {
        "id": "2OihQzfIjN29"
      },
      "source": [
        "### **변수 이름 규칙** \n",
        " * 영문 대소문자, _, 숫자로 구성 가능\n",
        "   - 숫자로 시작은 안된다!\n",
        " * 일반적으로 변수를 표현할 때 정확하고 간결한 이름을 사용하여 쉽게 이해하도록 설정한다. \n",
        "  - 예) a = 900 경우보다, hy_student_num = 900 으로 명시하는 것이 이해가 빠르다.\n"
      ]
    },
    {
      "cell_type": "code",
      "metadata": {
        "id": "QNFidLa0j_F-"
      },
      "source": [
        "abAB = 100\n",
        "#4_num = 10 #숫자로 시작하여 실행안됨\n",
        "ABab =200\n",
        "_right = 800"
      ],
      "execution_count": 13,
      "outputs": []
    },
    {
      "cell_type": "markdown",
      "metadata": {
        "id": "HtrkKYWhlLxn"
      },
      "source": [
        "### **예약어(키워드)**\n",
        "* python에서 미리 선점하여 사용중인 키워드\n",
        "* 변수, 함수, 클래스 등 사용자 정의 이름으로 사용할 수 없음"
      ]
    },
    {
      "cell_type": "code",
      "metadata": {
        "colab": {
          "base_uri": "https://localhost:8080/"
        },
        "id": "Fw8bvuLilhas",
        "outputId": "f46085b9-dedc-433c-cddc-39e7306d91a8"
      },
      "source": [
        "#for = 10 #for은 예약어로 변수 사용 불가\n",
        "_for = 100\n",
        "_for"
      ],
      "execution_count": 17,
      "outputs": [
        {
          "output_type": "execute_result",
          "data": {
            "text/plain": [
              "100"
            ]
          },
          "metadata": {},
          "execution_count": 17
        }
      ]
    },
    {
      "cell_type": "code",
      "metadata": {
        "id": "zjkz5MPnlla9"
      },
      "source": [
        ""
      ],
      "execution_count": null,
      "outputs": []
    }
  ]
}