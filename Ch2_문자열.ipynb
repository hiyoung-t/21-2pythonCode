{
  "nbformat": 4,
  "nbformat_minor": 0,
  "metadata": {
    "colab": {
      "name": "Untitled1.ipynb",
      "provenance": [],
      "authorship_tag": "ABX9TyOqZVhlaNuMdI/WW5GUZPLF",
      "include_colab_link": true
    },
    "kernelspec": {
      "name": "python3",
      "display_name": "Python 3"
    },
    "language_info": {
      "name": "python"
    }
  },
  "cells": [
    {
      "cell_type": "markdown",
      "metadata": {
        "id": "view-in-github",
        "colab_type": "text"
      },
      "source": [
        "<a href=\"https://colab.research.google.com/github/hiyoung-t/21-2pythonCode/blob/main/Ch2_%EB%AC%B8%EC%9E%90%EC%97%B4.ipynb\" target=\"_parent\"><img src=\"https://colab.research.google.com/assets/colab-badge.svg\" alt=\"Open In Colab\"/></a>"
      ]
    },
    {
      "cell_type": "markdown",
      "metadata": {
        "id": "prGI_voU9CrI"
      },
      "source": [
        "####**학습목표**\n",
        "1. 문자열(str) 타입 이해하기"
      ]
    },
    {
      "cell_type": "markdown",
      "metadata": {
        "id": "GhKe0brm9qyb"
      },
      "source": [
        "###**문자열(str)**\n",
        "- 여러 개의 문자를 순서대로 나열한 것\n",
        "- 문자열은 '(작은따옴표)' 혹은 \"\"(큰따옴표) 사이에 문자를 넣어서 생성\n",
        "  - ''' , \"\"\" (여러번 쓸경우) :\n",
        "  여러 줄에 결쳐 문자열이 표현 가능\n",
        "- 문자열 자체에 ',\" 있을 경우에는 그 반대의 기호로 생성"
      ]
    },
    {
      "cell_type": "code",
      "metadata": {
        "colab": {
          "base_uri": "https://localhost:8080/"
        },
        "id": "VobbwFgT-UMS",
        "outputId": "9985aebe-d419-408f-dbc8-0ab936642f45"
      },
      "source": [
        "a = \"Hello' World!\"\n",
        "b = 'Hello\" World!'\n",
        "\n",
        "c = '''Hello World\n",
        "\n",
        "it is hayoung'''\n",
        "\n",
        "d = \"\"\"Hello World\n",
        "it is hayoung\"\"\"\n",
        "\n",
        "print(a)\n",
        "print(b)\n",
        "print(c)\n",
        "print(d)"
      ],
      "execution_count": 18,
      "outputs": [
        {
          "output_type": "stream",
          "text": [
            "Hello' World!\n",
            "Hello\" World!\n",
            "Hello World\n",
            "\n",
            "it is hayoung\n",
            "Hello World\n",
            "it is hayoung\n"
          ],
          "name": "stdout"
        }
      ]
    },
    {
      "cell_type": "markdown",
      "metadata": {
        "id": "Ys7hTTCwA6Wz"
      },
      "source": [
        "**이스케이프(escape) 문자**\n",
        "\n",
        "* 탈출 효과를 주기 위해 문자열 내부에 넣는다\n",
        "* `\\n`: 엔터(다음줄)\n",
        "* `\\t`: tab\n"
      ]
    },
    {
      "cell_type": "code",
      "metadata": {
        "colab": {
          "base_uri": "https://localhost:8080/"
        },
        "id": "Kglm9zR9Bl7g",
        "outputId": "2ede7632-5f19-4702-9e5c-d68a7e2096a9"
      },
      "source": [
        "print('hello\\n\\nworld')\n",
        "print('이렇게 엔터를\\n치면 됩니다')\n",
        "print('2학기 회장:\\t 오상록')\n",
        "print('1학기 회장:\\t 전지설')"
      ],
      "execution_count": 24,
      "outputs": [
        {
          "output_type": "stream",
          "text": [
            "hello\n",
            "\n",
            "world\n",
            "이렇게 엔터를\n",
            "치면 됩니다\n",
            "2학기 회장:\t 오상록\n",
            "1학기 회장:\t 전지설\n"
          ],
          "name": "stdout"
        }
      ]
    },
    {
      "cell_type": "code",
      "metadata": {
        "id": "KKUzW4YoB79c"
      },
      "source": [
        ""
      ],
      "execution_count": null,
      "outputs": []
    }
  ]
}